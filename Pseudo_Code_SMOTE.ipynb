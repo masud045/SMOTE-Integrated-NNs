{
  "nbformat": 4,
  "nbformat_minor": 0,
  "metadata": {
    "colab": {
      "provenance": []
    },
    "kernelspec": {
      "name": "python3",
      "display_name": "Python 3"
    },
    "language_info": {
      "name": "python"
    }
  },
  "cells": [
    {
      "cell_type": "code",
      "execution_count": 1,
      "metadata": {
        "id": "pvsgKEmiijM8"
      },
      "outputs": [],
      "source": [
        "import numpy as np\n",
        "from sklearn.neighbors import NearestNeighbors\n",
        "\n",
        "def smote_regression(X, y, N, k):\n",
        "    \"\"\"\n",
        "    SMOTE algorithm for regression.\n",
        "\n",
        "    Parameters:\n",
        "    - X: np.array, input features of shape (n_samples, n_features)\n",
        "    - y: np.array, target variable of shape (n_samples,)\n",
        "    - N: int, desired number of synthetic samples\n",
        "    - k: int, number of nearest neighbors\n",
        "\n",
        "    Returns:\n",
        "    - X_augmented: np.array, augmented input features\n",
        "    - y_augmented: np.array, augmented target variable\n",
        "    \"\"\"\n",
        "    # Initialize list to store synthetic samples\n",
        "    synthetic_samples_X = []\n",
        "    synthetic_samples_y = []\n",
        "\n",
        "    # Fit nearest neighbors model\n",
        "    nn = NearestNeighbors(n_neighbors=k)\n",
        "    nn.fit(X)\n",
        "\n",
        "    # Loop over each sample\n",
        "    for i in range(len(X)):\n",
        "        # Find k-nearest neighbors\n",
        "        neighbors = nn.kneighbors([X[i]], return_distance=False)\n",
        "        for neighbor in neighbors[0]:\n",
        "            if neighbor != i:\n",
        "                # Compute difference\n",
        "                delta_x = X[neighbor] - X[i]\n",
        "                delta_y = y[neighbor] - y[i]\n",
        "\n",
        "                # Generate synthetic sample\n",
        "                r = np.random.rand()\n",
        "                synthetic_x = X[i] + r * delta_x\n",
        "                synthetic_y = y[i] + r * delta_y\n",
        "\n",
        "                # Append synthetic sample to the list\n",
        "                synthetic_samples_X.append(synthetic_x)\n",
        "                synthetic_samples_y.append(synthetic_y)\n",
        "\n",
        "    # Randomly select N synthetic samples\n",
        "    synthetic_samples_X = np.array(synthetic_samples_X)\n",
        "    synthetic_samples_y = np.array(synthetic_samples_y)\n",
        "\n",
        "    indices = np.random.choice(len(synthetic_samples_X), N, replace=False)\n",
        "    synthetic_samples_X = synthetic_samples_X[indices]\n",
        "    synthetic_samples_y = synthetic_samples_y[indices]\n",
        "\n",
        "    # Combine original and synthetic samples\n",
        "    X_augmented = np.vstack([X, synthetic_samples_X])\n",
        "    y_augmented = np.hstack([y, synthetic_samples_y])\n",
        "\n",
        "    return X_augmented, y_augmented\n"
      ]
    }
  ]
}