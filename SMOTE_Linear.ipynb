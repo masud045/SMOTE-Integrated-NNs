{
  "nbformat": 4,
  "nbformat_minor": 0,
  "metadata": {
    "colab": {
      "provenance": []
    },
    "kernelspec": {
      "name": "python3",
      "display_name": "Python 3"
    },
    "language_info": {
      "name": "python"
    }
  },
  "cells": [
    {
      "cell_type": "code",
      "execution_count": null,
      "metadata": {
        "colab": {
          "base_uri": "https://localhost:8080/"
        },
        "id": "3x60CGBN8bA4",
        "outputId": "3ec23dc2-d783-4ee5-9b10-67b430f33b00"
      },
      "outputs": [
        {
          "output_type": "stream",
          "name": "stdout",
          "text": [
            "(2342600, 5)\n",
            "(69415, 5)\n",
            "(23053, 5)\n"
          ]
        }
      ],
      "source": [
        "## Input features: Temperature, Pressure, H2 to N2 ratio, Flow rate\n",
        "import numpy as np\n",
        "import pandas as pd\n",
        "import itertools\n",
        "from imblearn.over_sampling import SMOTE, BorderlineSMOTE, SVMSMOTE, SMOTENC, RandomOverSampler\n",
        "from keras.models import Sequential\n",
        "from keras.layers import Dense\n",
        "import matplotlib.pyplot as plt\n",
        "from keras.optimizers import Adam\n",
        "import json\n",
        "\n",
        "data = np.array([[320, 0, 0.5, 100, 0.36],\n",
        "[320, 20.49, 0.5, 100, 0.69],\n",
        "[320, 39.18, 0.5, 100, 0.96],\n",
        "[320, 59.59, 0.5, 100, 1.21],\n",
        "[320, 79.93, 0.5, 100, 1.43],\n",
        "[320, 0, 1, 100, 0.58],\n",
        "[320, 10.24, 1, 100, 0.79],\n",
        "[320, 20.11, 1, 100, 0.96],\n",
        "[320, 39.33, 1, 100, 1.23],\n",
        "[320, 59.44, 1, 100, 1.44],\n",
        "[320, 75.44, 1, 100, 1.55],\n",
        "[320, 79.85, 1, 100, 1.57],\n",
        "[320, 0, 2, 100, 0.60],\n",
        "[320, 10.09, 2, 100, 0.78],\n",
        "[320, 20.41, 2, 100, 0.94],\n",
        "[320, 39.18, 2, 100, 1.15],\n",
        "[320, 59.51, 2, 100, 1.29],\n",
        "[320, 75.59, 2, 100, 1.34],\n",
        "[320, 80, 2, 100, 1.34],\n",
        "[320, 0, 3, 100, 0.61],\n",
        "[320, 10.32, 3, 100, 0.71],\n",
        "[320, 20.56, 3, 100, 0.79],\n",
        "[320, 39.18, 3, 100, 0.91],\n",
        "[320, 59.44, 3, 100, 1],\n",
        "[320, 79.85, 3, 100, 1.03],\n",
        "[320, 0, 5, 100, 0.51],\n",
        "[320, 10.32, 5, 100, 0.56],\n",
        "[320, 20.49, 5, 100, 0.59],\n",
        "[320, 39.33, 5, 100, 0.65],\n",
        "[320, 59.66, 5, 100, 0.67],\n",
        "[320, 79.85, 5, 100, 0.68],\n",
        "[280.50, 80, 1, 100, 0.56],\n",
        "[321.99, 80, 1, 100, 1.54],\n",
        "[342.11, 80, 1, 100, 1.59],\n",
        "[362.24, 80, 1, 100, 1.51],\n",
        "[401.24, 80, 1, 100, 1.24],\n",
        "[280.25, 80, 1, 200, 0.31],\n",
        "[301.37, 80, 1, 200, 0.76],\n",
        "[321.74, 80, 1, 200, 1.13],\n",
        "[342.11, 80, 1, 200, 1.33],\n",
        "[361.74, 80, 1, 200, 1.35],\n",
        "[381.37, 80, 1, 200, 1.26],\n",
        "[401.24, 80, 1, 200, 1.09],\n",
        "[280.50, 80, 1, 250, 0.27],\n",
        "[321.49, 80, 1, 250, 1.00],\n",
        "[340.12, 80, 1, 250, 1.17],\n",
        "[361.24, 80, 1, 250, 1.22],\n",
        "[400.99, 80, 1, 250, 1.03],\n",
        "[280.25, 80, 1, 50, 1.21],\n",
        "[321.99, 80, 1, 50, 1.85],\n",
        "[360.25, 80, 1, 50, 1.60],\n",
        "[399.25, 80, 1, 50, 1.32],\n",
        "[340.62, 80, 1, 50, 1.72]])\n",
        "\n",
        "my_column_names = ['Temperature(C)','Pressure(psig)','H2 to N2 ratio','Flow rate(ml/g)','Ammonia Concentration(%)']\n",
        "data = pd.DataFrame(data=data, columns=my_column_names)\n",
        "dataVariableNames = data.columns.tolist()\n",
        "feaColums = dataVariableNames[1:5]\n",
        "labels = dataVariableNames[5:]\n",
        "\n",
        "dataDel = data.drop_duplicates(subset=feaColums,keep='first',inplace=False)\n",
        "#print(data2Del)\n",
        "\n",
        "ind_list = [i for i in range(dataDel.shape[0])]\n",
        "#print(ind_list)\n",
        "\n",
        "ind_set = list(itertools.combinations(ind_list,3))\n",
        "#print(ind_set)\\\n",
        "\n",
        "model_smote = SMOTE(k_neighbors=1,random_state=0)\n",
        "\n",
        "data_smote_all = []\n",
        "ind_smote_all = []\n",
        "ind_smote = np.zeros(dataDel.shape[0]-5)\n",
        "#print(ind_smote)\n",
        "\n",
        "ind_smote[:2] = 1\n",
        "#print(ind_smote[:2])\n",
        "smote_data = []\n",
        "i = 0\n",
        "\n",
        "for item in ind_set:\n",
        "    ind_ = list(item)\n",
        "    y_smote = np.zeros(dataDel.shape[0])\n",
        "    y_smote[ind_] = 1\n",
        "    i +=1\n",
        "    data_smote_resampled, y_smote_resampled = model_smote.fit_resample(dataDel, y_smote)\n",
        "    smote_data.append(data_smote_resampled)\n",
        "\n",
        "\n",
        "# Convert the list to a NumPy array\n",
        "smote_data = np.array(smote_data)\n",
        "smote_data = smote_data.reshape(-1, 5)\n",
        "print(smote_data.shape)\n",
        "\n",
        "# Convert the array to a list of tuples to preserve the 2D structure\n",
        "smote_data_tuples = [tuple(row) for row in smote_data]\n",
        "\n",
        "# Storing unique data points\n",
        "unique_tuples, unique_indices = np.unique(smote_data_tuples, axis=0, return_index=True)\n",
        "\n",
        "# Convert the unique tuples back to a NumPy array\n",
        "unique_data_array = np.array(unique_tuples)\n",
        "print(unique_data_array.shape)\n",
        "\n",
        "# Taking random 23000 unique data points\n",
        "np.random.seed(42)\n",
        "random_unique_indices = np.random.choice(unique_data_array.shape[0], size=23000, replace=False)\n",
        "unique_data_random = unique_data_array[random_unique_indices, :]\n",
        "\n",
        "# Concatenate unique and original experimental data\n",
        "smote_data_array = np.vstack((unique_data_random, data))\n",
        "print(smote_data_array.shape)\n",
        "smote_data_feature = smote_data_array[:, :4]\n",
        "smote_data_label = smote_data_array[:, 4]"
      ]
    },
    {
      "cell_type": "code",
      "source": [
        "from sklearn.model_selection import train_test_split\n",
        "from sklearn.linear_model import LinearRegression\n",
        "from sklearn.metrics import mean_squared_error\n",
        "from sklearn.metrics import mean_absolute_error\n",
        "from sklearn.metrics import r2_score\n",
        "\n",
        "# Split the data into training (80%) and validation (20%) sets\n",
        "X_train, X_val, y_train, y_val = train_test_split(smote_data_feature, smote_data_label, test_size=0.2, random_state=42)\n",
        "\n",
        "# Initialize and train the linear regression model\n",
        "model = LinearRegression()\n",
        "model.fit(X_train, y_train)\n",
        "\n",
        "# Predict on the validation set\n",
        "y_pred = model.predict(X_val)\n",
        "\n",
        "# Performance Check\n",
        "MAE = mean_absolute_error(y_val, y_pred)\n",
        "MSE = mean_squared_error(y_val, y_pred)\n",
        "RMSE = np.sqrt(MSE)\n",
        "\n",
        "print(f'Mean Absoulte Error: {MAE:.2f}')\n",
        "print(f'Mean Squared Error: {MSE:.2f}')\n",
        "print(f'Root Mean Squared Error: {RMSE:.2f}')\n",
        "\n",
        "# Calculate R2 score\n",
        "R2 = r2_score(y_val, y_pred)\n",
        "\n",
        "print(f'R2 Score: {R2:.4f}')"
      ],
      "metadata": {
        "colab": {
          "base_uri": "https://localhost:8080/"
        },
        "id": "5WEtXt4--p6e",
        "outputId": "5cfedcb5-4fbb-467b-ba28-58f2f11f1b5f"
      },
      "execution_count": null,
      "outputs": [
        {
          "output_type": "stream",
          "name": "stdout",
          "text": [
            "Mean Absoulte Error: 0.14\n",
            "Mean Squared Error: 0.03\n",
            "Root Mean Squared Error: 0.18\n",
            "R2 Score: 0.6829\n"
          ]
        }
      ]
    },
    {
      "cell_type": "code",
      "source": [
        "# Define the ranges for each variable\n",
        "T_range = np.array([280, 400])\n",
        "P_range = np.array([0, 80])\n",
        "F_range = np.array([50, 250])\n",
        "R_range = np.array([0.5, 5])\n",
        "\n",
        "# Define the number of points for each variable\n",
        "num_T_points = 120\n",
        "num_P_points = 80\n",
        "num_F_points = 20\n",
        "num_R_points = 10\n",
        "\n",
        "# Create the meshgrid for each variable\n",
        "T_values = np.linspace(T_range[0], T_range[1], num_T_points)\n",
        "P_values = np.linspace(P_range[0], P_range[1], num_P_points)\n",
        "F_values = np.linspace(F_range[0], F_range[1], num_F_points)\n",
        "R_values = np.linspace(R_range[0], R_range[1], num_R_points)\n",
        "\n",
        "# Create the meshgrid\n",
        "T_mesh, P_mesh, F_mesh, R_mesh = np.meshgrid(T_values, P_values, F_values, R_values, indexing='ij')\n",
        "\n",
        "# Reshape the meshgrid to get the points for each variable combination\n",
        "T_points = T_mesh.reshape(-1)\n",
        "P_points = P_mesh.reshape(-1)\n",
        "F_points = F_mesh.reshape(-1)\n",
        "R_points = R_mesh.reshape(-1)\n",
        "\n",
        "# Combine the points for each variable to get the final data points\n",
        "data_points = np.column_stack((T_points, P_points, R_points, F_points))\n",
        "\n",
        "print(\"Shape of data points array:\", data_points.shape)\n"
      ],
      "metadata": {
        "colab": {
          "base_uri": "https://localhost:8080/"
        },
        "id": "o69RCs7V-qD6",
        "outputId": "3298739f-a4ae-478f-eccd-e9596df47e86"
      },
      "execution_count": null,
      "outputs": [
        {
          "output_type": "stream",
          "name": "stdout",
          "text": [
            "Shape of data points array: (1920000, 4)\n"
          ]
        }
      ]
    },
    {
      "cell_type": "code",
      "source": [
        "# Ammonia Concentration\n",
        "ammonia_conc = model.predict(data_points)\n",
        "print(ammonia_conc)\n",
        "\n",
        "# Find the index of the maximum value\n",
        "max_index = np.argmax(ammonia_conc)\n",
        "print(\"Index of maximum value:\", max_index)\n",
        "max_conc = ammonia_conc[max_index]\n",
        "print(\"The maximum ammonia concentration is:\", max_conc)\n",
        "print(\"The input feature for maximum ammonia concentration is:\", data_points[max_index])\n",
        "\n",
        "# Save the model for a Keras HDF5 model\n",
        "#model.save('linear_model.h5')\n"
      ],
      "metadata": {
        "colab": {
          "base_uri": "https://localhost:8080/"
        },
        "id": "ngD0QGmPBDHq",
        "outputId": "71b2e45f-85f7-4ad0-f555-d55038076ad8"
      },
      "execution_count": null,
      "outputs": [
        {
          "output_type": "stream",
          "name": "stdout",
          "text": [
            "[0.79570481 0.75192257 0.70814033 ... 0.90244224 0.85866    0.81487776]\n",
            "Index of maximum value: 1919800\n",
            "The maximum ammonia concentration is: 1.8750310202486014\n",
            "The input feature for maximum ammonia concentration is: [400.   80.    0.5  50. ]\n"
          ]
        }
      ]
    },
    {
      "cell_type": "code",
      "source": [
        "# Calculate the average prediction accuracy\n",
        "absolute_differences = np.abs(y_val - y_pred) / y_val\n",
        "prediction_accuracy = 1 - absolute_differences\n",
        "average_prediction_accuracy = np.mean(prediction_accuracy)\n",
        "print(f\"Average Prediction Accuracy: {average_prediction_accuracy}\")\n"
      ],
      "metadata": {
        "colab": {
          "base_uri": "https://localhost:8080/"
        },
        "id": "shJsBPAoC12K",
        "outputId": "20eb1d8c-b834-49b0-9279-a9c80584015d"
      },
      "execution_count": null,
      "outputs": [
        {
          "output_type": "stream",
          "name": "stdout",
          "text": [
            "Average Prediction Accuracy: 0.835418107949169\n"
          ]
        }
      ]
    },
    {
      "cell_type": "code",
      "source": [
        "import joblib\n",
        "\n",
        "# Save the model to an .h5 file using joblib\n",
        "model_filename = 'linear_regression_model.h5'\n",
        "joblib.dump(model, model_filename)\n",
        "print(f\"Model saved to {model_filename}\")\n"
      ],
      "metadata": {
        "colab": {
          "base_uri": "https://localhost:8080/"
        },
        "id": "eXrh8Nx3Ehi9",
        "outputId": "43fb3cd1-228e-4836-efd7-0307ba9db7bd"
      },
      "execution_count": null,
      "outputs": [
        {
          "output_type": "stream",
          "name": "stdout",
          "text": [
            "Model saved to linear_regression_model.h5\n"
          ]
        }
      ]
    },
    {
      "cell_type": "code",
      "source": [
        "# Load the model\n",
        "loaded_model = joblib.load('linear_regression_model.h5')"
      ],
      "metadata": {
        "id": "OXD7tb9nF9NH"
      },
      "execution_count": null,
      "outputs": []
    }
  ]
}