{
  "nbformat": 4,
  "nbformat_minor": 0,
  "metadata": {
    "colab": {
      "provenance": []
    },
    "kernelspec": {
      "name": "python3",
      "display_name": "Python 3"
    },
    "language_info": {
      "name": "python"
    }
  },
  "cells": [
    {
      "cell_type": "code",
      "execution_count": null,
      "metadata": {
        "id": "JtfVK5E6ft46",
        "colab": {
          "base_uri": "https://localhost:8080/"
        },
        "outputId": "744984c1-39bd-4a4c-9482-9b6d38406aaa"
      },
      "outputs": [
        {
          "output_type": "stream",
          "name": "stdout",
          "text": [
            "(2342600, 5)\n",
            "(69415, 5)\n",
            "(23053, 5)\n"
          ]
        }
      ],
      "source": [
        "## Input features: Temperature, Pressure, H2 to N2 ratio, Flow rate\n",
        "import numpy as np\n",
        "import pandas as pd\n",
        "import itertools\n",
        "from imblearn.over_sampling import SMOTE, BorderlineSMOTE, SVMSMOTE, SMOTENC, RandomOverSampler\n",
        "from keras.models import Sequential\n",
        "from keras.layers import Dense\n",
        "import matplotlib.pyplot as plt\n",
        "from keras.optimizers import Adam\n",
        "import json\n",
        "\n",
        "data = np.array([[320, 0, 0.5, 100, 0.36],\n",
        "[320, 20.49, 0.5, 100, 0.69],\n",
        "[320, 39.18, 0.5, 100, 0.96],\n",
        "[320, 59.59, 0.5, 100, 1.21],\n",
        "[320, 79.93, 0.5, 100, 1.43],\n",
        "[320, 0, 1, 100, 0.58],\n",
        "[320, 10.24, 1, 100, 0.79],\n",
        "[320, 20.11, 1, 100, 0.96],\n",
        "[320, 39.33, 1, 100, 1.23],\n",
        "[320, 59.44, 1, 100, 1.44],\n",
        "[320, 75.44, 1, 100, 1.55],\n",
        "[320, 79.85, 1, 100, 1.57],\n",
        "[320, 0, 2, 100, 0.60],\n",
        "[320, 10.09, 2, 100, 0.78],\n",
        "[320, 20.41, 2, 100, 0.94],\n",
        "[320, 39.18, 2, 100, 1.15],\n",
        "[320, 59.51, 2, 100, 1.29],\n",
        "[320, 75.59, 2, 100, 1.34],\n",
        "[320, 80, 2, 100, 1.34],\n",
        "[320, 0, 3, 100, 0.61],\n",
        "[320, 10.32, 3, 100, 0.71],\n",
        "[320, 20.56, 3, 100, 0.79],\n",
        "[320, 39.18, 3, 100, 0.91],\n",
        "[320, 59.44, 3, 100, 1],\n",
        "[320, 79.85, 3, 100, 1.03],\n",
        "[320, 0, 5, 100, 0.51],\n",
        "[320, 10.32, 5, 100, 0.56],\n",
        "[320, 20.49, 5, 100, 0.59],\n",
        "[320, 39.33, 5, 100, 0.65],\n",
        "[320, 59.66, 5, 100, 0.67],\n",
        "[320, 79.85, 5, 100, 0.68],\n",
        "[280.50, 80, 1, 100, 0.56],\n",
        "[321.99, 80, 1, 100, 1.54],\n",
        "[342.11, 80, 1, 100, 1.59],\n",
        "[362.24, 80, 1, 100, 1.51],\n",
        "[401.24, 80, 1, 100, 1.24],\n",
        "[280.25, 80, 1, 200, 0.31],\n",
        "[301.37, 80, 1, 200, 0.76],\n",
        "[321.74, 80, 1, 200, 1.13],\n",
        "[342.11, 80, 1, 200, 1.33],\n",
        "[361.74, 80, 1, 200, 1.35],\n",
        "[381.37, 80, 1, 200, 1.26],\n",
        "[401.24, 80, 1, 200, 1.09],\n",
        "[280.50, 80, 1, 250, 0.27],\n",
        "[321.49, 80, 1, 250, 1.00],\n",
        "[340.12, 80, 1, 250, 1.17],\n",
        "[361.24, 80, 1, 250, 1.22],\n",
        "[400.99, 80, 1, 250, 1.03],\n",
        "[280.25, 80, 1, 50, 1.21],\n",
        "[321.99, 80, 1, 50, 1.85],\n",
        "[360.25, 80, 1, 50, 1.60],\n",
        "[399.25, 80, 1, 50, 1.32],\n",
        "[340.62, 80, 1, 50, 1.72]])\n",
        "\n",
        "my_column_names = ['Temperature(C)','Pressure(psig)','H2 to N2 ratio','Flow rate(ml/g)','Ammonia Concentration(%)']\n",
        "data = pd.DataFrame(data=data, columns=my_column_names)\n",
        "dataVariableNames = data.columns.tolist()\n",
        "feaColums = dataVariableNames[1:5]\n",
        "labels = dataVariableNames[5:]\n",
        "\n",
        "dataDel = data.drop_duplicates(subset=feaColums,keep='first',inplace=False)\n",
        "#print(data2Del)\n",
        "\n",
        "ind_list = [i for i in range(dataDel.shape[0])]\n",
        "#print(ind_list)\n",
        "\n",
        "ind_set = list(itertools.combinations(ind_list,3))\n",
        "#print(ind_set)\\\n",
        "\n",
        "model_smote = SMOTE(k_neighbors=1,random_state=0)\n",
        "\n",
        "data_smote_all = []\n",
        "ind_smote_all = []\n",
        "ind_smote = np.zeros(dataDel.shape[0]-5)\n",
        "#print(ind_smote)\n",
        "\n",
        "ind_smote[:2] = 1\n",
        "#print(ind_smote[:2])\n",
        "smote_data = []\n",
        "i = 0\n",
        "\n",
        "for item in ind_set:\n",
        "    ind_ = list(item)\n",
        "    y_smote = np.zeros(dataDel.shape[0])\n",
        "    y_smote[ind_] = 1\n",
        "    i +=1\n",
        "    data_smote_resampled, y_smote_resampled = model_smote.fit_resample(dataDel, y_smote)\n",
        "    smote_data.append(data_smote_resampled)\n",
        "\n",
        "\n",
        "# Convert the list to a NumPy array\n",
        "smote_data = np.array(smote_data)\n",
        "smote_data = smote_data.reshape(-1, 5)\n",
        "print(smote_data.shape)\n",
        "\n",
        "# Convert the array to a list of tuples to preserve the 2D structure\n",
        "smote_data_tuples = [tuple(row) for row in smote_data]\n",
        "\n",
        "# Storing unique data points\n",
        "unique_tuples, unique_indices = np.unique(smote_data_tuples, axis=0, return_index=True)\n",
        "\n",
        "# Convert the unique tuples back to a NumPy array\n",
        "unique_data_array = np.array(unique_tuples)\n",
        "print(unique_data_array.shape)\n",
        "\n",
        "# Taking random 23000 unique data points\n",
        "np.random.seed(42)\n",
        "random_unique_indices = np.random.choice(unique_data_array.shape[0], size=23000, replace=False)\n",
        "unique_data_random = unique_data_array[random_unique_indices, :]\n",
        "\n",
        "# Concatenate unique and original experimental data\n",
        "smote_data_array = np.vstack((unique_data_random, data))\n",
        "print(smote_data_array.shape)\n",
        "smote_data_feature = smote_data_array[:, :4]\n",
        "smote_data_label = smote_data_array[:, 4]"
      ]
    },
    {
      "cell_type": "code",
      "source": [
        "from sklearn.model_selection import train_test_split\n",
        "from sklearn.linear_model import LinearRegression\n",
        "from sklearn.metrics import mean_squared_error\n",
        "from sklearn.svm import SVR\n",
        "from sklearn.model_selection import GridSearchCV\n",
        "from sklearn.metrics import mean_absolute_error\n",
        "from sklearn.metrics import r2_score\n",
        "\n",
        "# Split the data into training (80%) and validation (20%) sets\n",
        "X_train, X_val, y_train, y_val = train_test_split(smote_data_feature, smote_data_label, test_size=0.2, random_state=42)\n",
        "\n",
        "# Define the hyperparameter grid to search\n",
        "param_grid = {'C': [0.1, 1, 10], 'gamma': ['scale', 'auto'], 'kernel': ['linear', 'rbf']}\n",
        "\n",
        "\n",
        "# SVR Model fitting and Prediction\n",
        "Model = SVR(kernel = 'poly', degree = 3, gamma = 'scale', C = 10)\n",
        "Model.fit(X_train, y_train)\n",
        "y_pred = Model.predict(X_val)\n",
        "Results = pd.DataFrame({'Actual Ammonia Concentration(%)': y_val, 'Predicted Ammonia Concentration(%)': y_pred})\n",
        "print(Results)\n",
        "\n",
        "\n",
        "# Performance Check\n",
        "MAE = mean_absolute_error(y_val, y_pred)\n",
        "MSE = mean_squared_error(y_val, y_pred)\n",
        "RMSE = np.sqrt(MSE)\n",
        "\n",
        "print(f'Mean Absoulte Error: {MAE:.2f}')\n",
        "print(f'Mean Squared Error: {MSE:.2f}')\n",
        "print(f'Root Mean Squared Error: {RMSE:.2f}')\n",
        "\n",
        "# Calculate R2 score\n",
        "R2 = r2_score(y_val, y_pred)\n",
        "\n",
        "print(f'R2 Score: {R2:.4f}')"
      ],
      "metadata": {
        "colab": {
          "base_uri": "https://localhost:8080/"
        },
        "id": "7bGHwBjvhZUj",
        "outputId": "85e21f4a-7aff-49f1-c1ae-3d1001a4e72c"
      },
      "execution_count": null,
      "outputs": [
        {
          "output_type": "stream",
          "name": "stdout",
          "text": [
            "      Actual Ammonia Concentration(%)  Predicted Ammonia Concentration(%)\n",
            "0                            1.369018                            1.208284\n",
            "1                            1.070982                            1.097445\n",
            "2                            1.222548                            1.487110\n",
            "3                            0.922162                            1.027003\n",
            "4                            0.743452                            0.670877\n",
            "...                               ...                                 ...\n",
            "4606                         0.924376                            1.042939\n",
            "4607                         1.263303                            1.072268\n",
            "4608                         0.792360                            0.756160\n",
            "4609                         1.129250                            0.963741\n",
            "4610                         1.408298                            1.267889\n",
            "\n",
            "[4611 rows x 2 columns]\n",
            "Mean Absoulte Error: 0.13\n",
            "Mean Squared Error: 0.03\n",
            "Root Mean Squared Error: 0.17\n",
            "R2 Score: 0.7005\n"
          ]
        }
      ]
    },
    {
      "cell_type": "code",
      "source": [
        "# Calculate the average prediction accuracy\n",
        "absolute_differences = np.abs(y_val - y_pred) / y_val\n",
        "prediction_accuracy = 1 - absolute_differences\n",
        "average_prediction_accuracy = np.mean(prediction_accuracy)\n",
        "print(f\"Average Prediction Accuracy: {average_prediction_accuracy}\")"
      ],
      "metadata": {
        "colab": {
          "base_uri": "https://localhost:8080/"
        },
        "id": "_MIkMsLmhZWn",
        "outputId": "da446ff9-8df4-4126-8a62-48360b0cb52b"
      },
      "execution_count": null,
      "outputs": [
        {
          "output_type": "stream",
          "name": "stdout",
          "text": [
            "Average Prediction Accuracy: 0.8421881605334594\n"
          ]
        }
      ]
    },
    {
      "cell_type": "code",
      "source": [
        "import joblib\n",
        "\n",
        "# Save the model to an .h5 file using joblib\n",
        "model_filename = 'svr_regression_model.h5'\n",
        "joblib.dump(Model, model_filename)\n",
        "print(f\"Model saved to {model_filename}\")"
      ],
      "metadata": {
        "id": "tO7zIOaGiSPw"
      },
      "execution_count": null,
      "outputs": []
    },
    {
      "cell_type": "code",
      "source": [
        "# Load the model\n",
        "loaded_model = joblib.load('svr_regression_model.h5')"
      ],
      "metadata": {
        "id": "dv9NfpeiiSVf"
      },
      "execution_count": null,
      "outputs": []
    }
  ]
}